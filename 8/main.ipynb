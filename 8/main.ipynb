{
 "cells": [
  {
   "cell_type": "code",
   "execution_count": 1,
   "metadata": {},
   "outputs": [],
   "source": [
    "from neuron import h, gui\n",
    "import numpy as np\n",
    "from neuron.units import ms, mV\n",
    "import matplotlib.pyplot as plt\n",
    "\n",
    "h.load_file(\"stdrun.hoc\")\n",
    "\n",
    "%matplotlib inline"
   ]
  },
  {
   "cell_type": "code",
   "execution_count": 2,
   "metadata": {},
   "outputs": [],
   "source": [
    "class Cell:\n",
    "    def __init__(self, gid, x, y, z, theta=0):\n",
    "        self._gid = gid\n",
    "        self._setup_morphology()\n",
    "        self.all = self.soma.wholetree()\n",
    "        self._setup_biophysics()\n",
    "        self.x = self.y = self.z = 0\n",
    "        h.define_shape()\n",
    "        for sec in self.all:\n",
    "            for i in range(sec.n3d()):\n",
    "                sec.pt3dchange(\n",
    "                    i,\n",
    "                    sec.x3d(i),\n",
    "                    sec.y3d(i),\n",
    "                    0,\n",
    "                    sec.diam3d(i),\n",
    "                )\n",
    "\n",
    "        self._rotate_z(theta)\n",
    "        self._set_position(x, y, z)\n",
    "\n",
    "        self._spike_detector = h.NetCon(self.soma(0.5)._ref_v, None, sec=self.soma)\n",
    "        self.spike_times = h.Vector()\n",
    "        self._spike_detector.record(self.spike_times)\n",
    "\n",
    "        self._ncs = []\n",
    "\n",
    "        self.soma_v = h.Vector().record(self.soma(0.5)._ref_v)\n",
    "\n",
    "    def __repr__(self):\n",
    "        return \"{}[{}]\".format(self.name, self._gid)\n",
    "\n",
    "    def _set_position(self, x, y, z):\n",
    "        for sec in self.all:\n",
    "            for i in range(sec.n3d()):\n",
    "                sec.pt3dchange(\n",
    "                    i,\n",
    "                    x - self.x + sec.x3d(i),\n",
    "                    y - self.y + sec.y3d(i),\n",
    "                    z - self.z + sec.z3d(i),\n",
    "                    sec.diam3d(i),\n",
    "                )\n",
    "        self.x, self.y, self.z = x, y, z\n",
    "\n",
    "    def _rotate_z(self, theta):\n",
    "        \"\"\"Rotate the cell about the Z axis.\"\"\"\n",
    "        for sec in self.all:\n",
    "            for i in range(sec.n3d()):\n",
    "                x = sec.x3d(i)\n",
    "                y = sec.y3d(i)\n",
    "                c = h.cos(theta)\n",
    "                s = h.sin(theta)\n",
    "                xprime = x * c - y * s\n",
    "                yprime = x * s + y * c\n",
    "                sec.pt3dchange(i, xprime, yprime, sec.z3d(i), sec.diam3d(i))"
   ]
  },
  {
   "cell_type": "code",
   "execution_count": 3,
   "metadata": {},
   "outputs": [],
   "source": [
    "class PointNeuron(Cell):\n",
    "    name = \"PointNeuron\"\n",
    "\n",
    "    def _setup_morphology(self):\n",
    "        self.soma = h.Section(name=\"soma\", cell=self)\n",
    "        self.soma.L = self.soma.diam = 12.6157\n",
    "\n",
    "    def _setup_biophysics(self):\n",
    "        for sec in self.all:\n",
    "            sec.Ra = 100  # Axial resistance in Ohm * cm\n",
    "            sec.cm = 1  # Membrane capacitance in micro Farads / cm^2\n",
    "        self.soma.insert(\"hh\")\n",
    "        for seg in self.soma:\n",
    "            seg.hh.gnabar = 0.12  # Sodium conductance in S/cm2\n",
    "            seg.hh.gkbar = 0.036  # Potassium conductance in S/cm2\n",
    "            seg.hh.gl = 0.0003  # Leak conductance in S/cm2\n",
    "            seg.hh.el = -54.3  # Reversal potential in mV\n",
    "        # Insert passive current in the dendrite\n",
    "        # self.dend.insert(\"pas\")\n",
    "        # for seg in self.dend:\n",
    "        #     seg.pas.g = 0.001  # Passive conductance in S/cm2\n",
    "        #     seg.pas.e = -65  # Leak reversal potential mV\n",
    "\n",
    "        # NEW: the synapse\n",
    "        self.syn = h.ExpSyn(self.soma(0.5))\n",
    "        self.syn.tau = 2 * ms"
   ]
  },
  {
   "cell_type": "code",
   "execution_count": 4,
   "metadata": {},
   "outputs": [],
   "source": [
    "def create_n_PointNeurons(NETDIM_X, NETDIM_Y, NETDIM_Z, x0, y0, z0):\n",
    "    # NETDIM_X, NETDIM_Y, NETDIM_Z - number of cells in X, Y and Z dimension\n",
    "    # x0, y0, z0 – network point of origin\n",
    "    Dx = 50  # Lattice X constant (um)\n",
    "    Dy = 50  # Lattice Y constant (um)\n",
    "    Dz = 50  # Lattice Z constant (um)\n",
    "\n",
    "    cells = []\n",
    "    label = 0\n",
    "    for i in range(NETDIM_X):\n",
    "        for j in range(NETDIM_Y):\n",
    "            for k in range(NETDIM_Z):\n",
    "                cells.append(PointNeuron(label, x0 + i * Dx, y0 + j * Dy, z0 + k * Dz))\n",
    "                label = label + 1\n",
    "    return cells"
   ]
  },
  {
   "cell_type": "code",
   "execution_count": 5,
   "metadata": {},
   "outputs": [],
   "source": [
    "my_cells_E = create_n_PointNeurons(5, 5, 1, 0, 0, 0)"
   ]
  },
  {
   "cell_type": "code",
   "execution_count": 6,
   "metadata": {},
   "outputs": [],
   "source": [
    "stim = h.NetStim()\n",
    "syn_ = h.ExpSyn(my_cells_E[0].soma(0.5))\n",
    "syn_.tau = 2 * ms\n",
    "syn_.e = 0 * mV\n",
    "stim.number = 100\n",
    "stim.interval = 10\n",
    "stim.start = 0\n",
    "stim.noise = 1  # 0 – deterministic, 1 – Poisson process\n",
    "\n",
    "stim.number = 5\n",
    "stim.interval = 10\n",
    "stim.start = 0\n",
    "stim.noise = 1\n",
    "\n",
    "ncstim = h.NetCon(stim, syn_, 0, 1, 0.005)"
   ]
  },
  {
   "cell_type": "code",
   "execution_count": 7,
   "metadata": {},
   "outputs": [],
   "source": [
    "netcons_E = []\n",
    "connections = []\n",
    "drawn_secs = []\n",
    "CONNECTION_PROB = 0.2\n",
    "for source in my_cells_E:\n",
    "    for target in my_cells_E:\n",
    "        prob = np.random.uniform()\n",
    "        if (prob <= CONNECTION_PROB) and (source != target):\n",
    "            dist = np.sqrt(\n",
    "                (source.x - target.x) ** 2\n",
    "                + (source.y - target.y) ** 2\n",
    "                + (source.z - target.z) ** 2\n",
    "            )\n",
    "            nc_E = h.NetCon(source.soma(0.5)._ref_v, target.syn, sec=source.soma)\n",
    "            nc_E.weight[0] = 0.005\n",
    "            nc_E.delay = 0.0005 * dist  # 0.0005 [ms/um] -> 2 [m/s]\n",
    "            netcons_E.append(nc_E)\n",
    "\n",
    "            sec = h.Section(name=f\"{source}_to_{target}\")\n",
    "            sec.diam = 1\n",
    "            sec.pt3dadd(\n",
    "                source.x,\n",
    "                source.y,\n",
    "                source.z,\n",
    "                1,\n",
    "            )\n",
    "            sec.pt3dadd(\n",
    "                target.x,\n",
    "                target.y,\n",
    "                target.z,\n",
    "                1,\n",
    "            )\n",
    "            drawn_secs.append(sec)"
   ]
  },
  {
   "cell_type": "code",
   "execution_count": 8,
   "metadata": {},
   "outputs": [
    {
     "data": {
      "text/plain": [
       "1.0"
      ]
     },
     "execution_count": 8,
     "metadata": {},
     "output_type": "execute_result"
    }
   ],
   "source": [
    "ps = h.PlotShape(True)\n",
    "ps.variable(\"v\")\n",
    "ps.scale(-80, 40)\n",
    "ps.exec_menu(\"Shape Plot\")\n",
    "ps.show(0)\n",
    "h.flush_list.append(ps)"
   ]
  },
  {
   "cell_type": "code",
   "execution_count": 9,
   "metadata": {},
   "outputs": [],
   "source": [
    "# cell_o_v = h.Vector().record(my_cells_E[0].soma(0.5)._ref_v)\n",
    "\n",
    "# h.finitialize(-65 * mV)\n",
    "# h.continuerun(100 * ms)\n",
    "\n",
    "# plt.plot(cell_o_v)\n",
    "# plt.show()"
   ]
  },
  {
   "cell_type": "code",
   "execution_count": 10,
   "metadata": {},
   "outputs": [
    {
     "data": {
      "text/plain": [
       "0.0"
      ]
     },
     "execution_count": 10,
     "metadata": {},
     "output_type": "execute_result"
    }
   ],
   "source": [
    "# recording spikes\n",
    "spike_times_vec_E = h.Vector()\n",
    "idvec_E = h.Vector()\n",
    "for i, cell in enumerate(my_cells_E):\n",
    "    nc = h.NetCon(cell.soma(0.5)._ref_v, None, sec=cell.soma)\n",
    "    nc.record(spike_times_vec_E, idvec_E, i)\n",
    "del nc\n",
    "\n",
    "spike_times_stim = h.Vector()\n",
    "spike_id_stim = h.Vector()\n",
    "ncstim.record(spike_times_stim, spike_id_stim, 0)\n",
    "\n",
    "h.finitialize(-65 * mV)\n",
    "h.continuerun(100 * ms)"
   ]
  },
  {
   "cell_type": "code",
   "execution_count": 16,
   "metadata": {},
   "outputs": [
    {
     "data": {
      "image/png": "[encoded data removed]",
      "text/plain": [
       "<Figure size 640x480 with 1 Axes>"
      ]
     },
     "metadata": {},
     "output_type": "display_data"
    }
   ],
   "source": [
    "# plotting rasterplot\n",
    "plt.figure()\n",
    "plt.vlines(list(spike_times_stim), -0.5, 1, color=\"r\")\n",
    "for t, id in zip(spike_times_vec_E, idvec_E):\n",
    "    plt.vlines(t, id + 0.5, id + 1.5)\n",
    "plt.xlabel(\"Time (ms)\")\n",
    "plt.ylabel(\"Cell number\")\n",
    "plt.show()"
   ]
  },
  {
   "cell_type": "code",
   "execution_count": null,
   "metadata": {},
   "outputs": [],
   "source": []
  }
 ],
 "metadata": {
  "kernelspec": {
   "display_name": ".venv",
   "language": "python",
   "name": "python3"
  },
  "language_info": {
   "codemirror_mode": {
    "name": "ipython",
    "version": 3
   },
   "file_extension": ".py",
   "mimetype": "text/x-python",
   "name": "python",
   "nbconvert_exporter": "python",
   "pygments_lexer": "ipython3",
   "version": "3.11.6"
  }
 },
 "nbformat": 4,
 "nbformat_minor": 2
}
